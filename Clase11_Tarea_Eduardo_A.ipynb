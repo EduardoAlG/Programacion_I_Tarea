{
 "cells": [
  {
   "cell_type": "markdown",
   "id": "2ed53af2-9571-4974-9b46-a94ce7fe919c",
   "metadata": {},
   "source": [
    "# Clase 11 Programación I MCD - Solución de tarea"
   ]
  },
  {
   "cell_type": "markdown",
   "id": "b30f35db-a1b9-43c7-971e-5c71dc44392a",
   "metadata": {},
   "source": [
    "- **Nombre:** Eduardo Basilio Alarcón Gutierrez\n",
    "- **Código:** 224807924\n",
    "- **Materia:** Programación I"
   ]
  },
  {
   "cell_type": "markdown",
   "id": "54fc4554-a9a8-4630-9d9b-029308f346a1",
   "metadata": {},
   "source": [
    "#### Importamos las librerías requeridas"
   ]
  },
  {
   "cell_type": "code",
   "execution_count": 73,
   "id": "ea9b57e9-05b0-4c10-bafb-1ee9e4244291",
   "metadata": {},
   "outputs": [],
   "source": [
    "#Conectar con SQL y generar DF\n",
    "import pyodbc\n",
    "import pandas as pd\n",
    "# Emplearemos estas librerías para hacer datos random\n",
    "import random\n",
    "from datetime import datetime, timedelta\n",
    "#Gráficos\n",
    "import matplotlib.pyplot as plt"
   ]
  },
  {
   "cell_type": "markdown",
   "id": "d0deb88e-bb5a-46a9-a059-9b7e73b85dfa",
   "metadata": {},
   "source": [
    "#### Comprobamos que se pueda establecer conexión con SQL"
   ]
  },
  {
   "cell_type": "code",
   "execution_count": 3,
   "id": "cf39f537-7536-4a5b-92fa-693e99b7397c",
   "metadata": {},
   "outputs": [
    {
     "name": "stdout",
     "output_type": "stream",
     "text": [
      "Conexión exitosa\n"
     ]
    }
   ],
   "source": [
    "server = r'EDUARDO_A\\SQLEXPRESS'\n",
    "try:                               \n",
    "    conexion = pyodbc.connect(driver='{SQL server}', host = server, autocommit=True) \n",
    "    print('Conexión exitosa')\n",
    "except: \n",
    "\n",
    "    print('La conexión no fué exitosa')"
   ]
  },
  {
   "cell_type": "markdown",
   "id": "9a0fecd6-6911-42b2-a594-ace8328b1206",
   "metadata": {},
   "source": [
    "## 1. Crear una base de datos llamada DB_Propia"
   ]
  },
  {
   "cell_type": "code",
   "execution_count": 5,
   "id": "a18c5a5a-6935-47ad-9867-1873a6815c49",
   "metadata": {},
   "outputs": [
    {
     "name": "stdout",
     "output_type": "stream",
     "text": [
      "Conexión exitosa\n",
      "Base de datos creada con éxito o ya se encontraba creada\n"
     ]
    }
   ],
   "source": [
    "server = r'EDUARDO_A\\SQLEXPRESS'\n",
    "bd = 'DB_Propia'\n",
    "usuario = 'sa'\n",
    "contrasena= 'eduardo1811A'\n",
    "    \n",
    "try:                               \n",
    "    conexion = pyodbc.connect(driver='{SQL server}', host = server, database = bd, UID = usuario, PWD = contrasena)                              \n",
    "    print('Conexión exitosa')\n",
    "\n",
    "except: \n",
    "    print('La conexión no fué exitosa')\n",
    "    \n",
    "#Creamos un cursor para almacenar la información en memoria\n",
    "cursor = conexion.cursor()\n",
    "\n",
    "#Indicamos lo que queremos que se lleve a cabo en código de SQL\n",
    "cursor.execute(\"\"\"\n",
    "    IF NOT EXISTS (SELECT * FROM sys.databases WHERE name = 'DB_Propia')\n",
    "        BEGIN\n",
    "            CREATE DATABASE DB_Propia\n",
    "        END\"\"\")  \n",
    "print('Base de datos creada con éxito o ya se encontraba creada')\n",
    "#Nos aseguramos de cerrar la conexión\n",
    "conexion.close()"
   ]
  },
  {
   "cell_type": "markdown",
   "id": "9feda50f-da7c-45db-972b-f28f2f0f0556",
   "metadata": {},
   "source": [
    "## 2. Con tres tablas que contenga campos de tipo INT y de tipo Varchar con la cantidad de filas (10 registros)"
   ]
  },
  {
   "cell_type": "markdown",
   "id": "533a75da-29b3-4062-9588-da1fef663601",
   "metadata": {},
   "source": [
    "Nos aseguramos que las tablas no exitan previamente, para evitar tener errores"
   ]
  },
  {
   "cell_type": "code",
   "execution_count": 13,
   "id": "411a3942-006b-4cfc-9c7c-41e583d99ee1",
   "metadata": {},
   "outputs": [
    {
     "name": "stdout",
     "output_type": "stream",
     "text": [
      "Conexión exitosa\n",
      "Eliminamos las tablas correctamente\n"
     ]
    }
   ],
   "source": [
    "server = r'EDUARDO_A\\SQLEXPRESS'\n",
    "bd = 'DB_Propia'\n",
    "    \n",
    "try:                               \n",
    "    conexion = pyodbc.connect(driver='{SQL server}', host = server, database = bd)                              \n",
    "    print('Conexión exitosa')\n",
    "\n",
    "except: \n",
    "    print('La conexión no fué exitosa')\n",
    "    \n",
    "#Creamos un cursor para almacenar la información en memoria\n",
    "cursor = conexion.cursor()\n",
    "\n",
    "cursor.execute(\"\"\"IF OBJECT_ID('Tabla_1', 'U') IS NOT NULL\n",
    "    DROP TABLE Tabla_1;\"\"\")\n",
    "cursor.execute(\"\"\"IF OBJECT_ID('Tabla_2', 'U') IS NOT NULL\n",
    "    DROP TABLE Tabla_2;\"\"\")\n",
    "cursor.execute(\"\"\"IF OBJECT_ID('Tabla_3', 'U') IS NOT NULL\n",
    "    DROP TABLE Tabla_3;\"\"\")\n",
    "\n",
    "print('Eliminamos las tablas correctamente')\n",
    "\n",
    "#Nos aseguramos de cerrar la conexión\n",
    "conexion.close()"
   ]
  },
  {
   "cell_type": "markdown",
   "id": "ee326215-f230-4161-9acd-29c3bbafe587",
   "metadata": {},
   "source": [
    "### 2.1 Tabla N° 1: Información de cuentas bancarias"
   ]
  },
  {
   "cell_type": "markdown",
   "id": "547fccda-891d-47b7-b9b2-fed0f43b8bc6",
   "metadata": {},
   "source": [
    "Contiene información de los tipos de cuenta que tienen los clientes, en esta tabla contamos con datos de tipo INT, NVARCHAR y FLOAT."
   ]
  },
  {
   "cell_type": "code",
   "execution_count": 15,
   "id": "196adc5b-57c2-41fb-b15d-8d682cc00271",
   "metadata": {},
   "outputs": [
    {
     "name": "stdout",
     "output_type": "stream",
     "text": [
      "Conexión exitosa\n",
      "Tabla 1 creada correctamente\n"
     ]
    }
   ],
   "source": [
    "server = r'EDUARDO_A\\SQLEXPRESS'\n",
    "bd = 'DB_Propia'\n",
    "    \n",
    "try:                               \n",
    "    conexion = pyodbc.connect(driver='{SQL server}', host = server, database = bd)                              \n",
    "    print('Conexión exitosa')\n",
    "    \n",
    "except Exception as e:\n",
    "    print('La conexión no fue exitosa:', e)\n",
    "    conexion = None\n",
    "\n",
    "if conexion:\n",
    "    # Creamos un cursor para ejecutar consultas\n",
    "    cursor = conexion.cursor()\n",
    "\n",
    "    # Crear la tabla si no existe\n",
    "    cursor.execute(\"\"\"\n",
    "        IF NOT EXISTS (SELECT * FROM sys.tables WHERE name = 'Tabla_1')\n",
    "        CREATE TABLE Tabla_1 (\n",
    "            ID INT PRIMARY KEY,\n",
    "            Nombre_cliente NVARCHAR(100),\n",
    "            Cuenta NVARCHAR(50),\n",
    "            Dinero FLOAT\n",
    "        )\n",
    "    \"\"\")\n",
    "\n",
    "    # Funciones para generar datos aleatorios\n",
    "    def random_date(start_date, end_date):\n",
    "        delta = end_date - start_date\n",
    "        random_days = random.randint(0, delta.days)\n",
    "        return start_date + timedelta(days=random_days)\n",
    "\n",
    "    def random_name():\n",
    "        names = [\n",
    "            \"Juan Mendieta\", \"Ana García\", \"Carlos Gutierrez\", \"Marta Alarcón\",\n",
    "            \"Luis Pinto\", \"Sofia Carrasco\", \"Pedro Heredia\", \"Lucia Paredes\",\n",
    "            \"Javier Baltazar\", \"Carmen Torres\"\n",
    "        ]\n",
    "        return random.choice(names)\n",
    "\n",
    "    def random_cuenta():\n",
    "        cuenta_nom = [\n",
    "            \"Ahorros\", \"Plazo fijo\", \"Sueldo\", \"Mancomunada\",\n",
    "            \"Fondo mutuo\", \"CTS\"\n",
    "        ]\n",
    "        return random.choice(cuenta_nom)\n",
    "\n",
    "    # Insertar 20 filas de datos aleatorios\n",
    "    for i in range(1, 21):\n",
    "        nombre_cliente = random_name()\n",
    "        cuenta = random_cuenta()\n",
    "        dinero = round(random.uniform(500, 10000), 2)\n",
    "        cursor.execute(\"INSERT INTO Tabla_1 (ID, Nombre_cliente, Cuenta, Dinero) VALUES (?, ?, ?, ?)\", (i, nombre_cliente, cuenta, dinero))\n",
    "\n",
    "    # Confirmar los cambios con commit\n",
    "    conexion.commit()\n",
    "    print(\"Tabla 1 creada correctamente\")\n",
    "\n",
    "    # Cerrar la conexión\n",
    "    conexion.close()"
   ]
  },
  {
   "cell_type": "markdown",
   "id": "9ea10f42-9021-42fa-ac7a-d59e00320646",
   "metadata": {},
   "source": [
    "### 2.1 Tabla N° 2: Información de movimientos en las cuentas"
   ]
  },
  {
   "cell_type": "markdown",
   "id": "3f3253f0-e4b8-4d04-8a4e-237dd274f46d",
   "metadata": {},
   "source": [
    "Contiene información de movimiento en las cuentas bancarias, contiene datos de tipo INT, DATATIME, FLOAT, NVARCHAR y FLOAT."
   ]
  },
  {
   "cell_type": "code",
   "execution_count": 41,
   "id": "f040c8d1-1475-409d-93bf-b3238b98a24f",
   "metadata": {},
   "outputs": [
    {
     "name": "stdout",
     "output_type": "stream",
     "text": [
      "Conexión exitosa\n",
      "Tabla 2 creada correctamente y datos insertados.\n",
      "Conexión cerrada.\n"
     ]
    }
   ],
   "source": [
    "def random_date(start, end):\n",
    "    delta = end - start\n",
    "    random_days = random.randint(0, delta.days)\n",
    "    return start + timedelta(days=random_days)\n",
    "\n",
    "server = r'EDUARDO_A\\SQLEXPRESS'\n",
    "bd = 'DB_Propia'\n",
    "\n",
    "try:\n",
    "    conexion = pyodbc.connect(driver='{SQL Server}', host=server, database=bd)\n",
    "    print('Conexión exitosa')\n",
    "\n",
    "    cursor = conexion.cursor()\n",
    "\n",
    "    # Crear Tabla_2 si no existe\n",
    "    cursor.execute(\"\"\"\n",
    "        IF NOT EXISTS (SELECT * FROM sys.tables WHERE name = 'Tabla_2')\n",
    "        BEGIN\n",
    "            CREATE TABLE Tabla_2 (\n",
    "                ID INT PRIMARY KEY,\n",
    "                Fecha_apertura DATETIME,\n",
    "                Monto_previo FLOAT,\n",
    "                Fecha_ultimo_movimiento DATETIME,\n",
    "                Tipo_movimiento NVARCHAR(50),\n",
    "                Cantidad_movimiento FLOAT\n",
    "            )\n",
    "        END\n",
    "    \"\"\")\n",
    "\n",
    "    # Generar e insertar datos\n",
    "    start_date = datetime(2000, 1, 1)\n",
    "    end_date = datetime(2024, 11, 18)\n",
    "\n",
    "    for i in range(1, 21):\n",
    "        fecha_apertura = random_date(start_date, end_date)\n",
    "        monto_previo = round(random.uniform(100, 5000), 2)\n",
    "        fecha_ultimo_mov = random_date(fecha_apertura, end_date)\n",
    "        tipo_movimiento = random.choice([\"Depósito\", \"Retiro\", \"Transferencia\"])\n",
    "        cantidad_mov = round(random.uniform(50, 1000), 2)\n",
    "\n",
    "        cursor.execute(\"\"\"\n",
    "            INSERT INTO Tabla_2 (ID, Fecha_apertura, Monto_previo, Fecha_ultimo_movimiento, Tipo_movimiento, Cantidad_movimiento)\n",
    "            VALUES (?, ?, ?, ?, ?, ?)\n",
    "        \"\"\", (i, fecha_apertura, monto_previo, fecha_ultimo_mov, tipo_movimiento, cantidad_mov))\n",
    "    \n",
    "    conexion.commit()\n",
    "    print(\"Tabla 2 creada correctamente y datos insertados.\")\n",
    "\n",
    "except pyodbc.Error as e:\n",
    "    print(\"Error de conexión o SQL:\", e)\n",
    "\n",
    "finally:\n",
    "    conexion.close()\n",
    "    print(\"Conexión cerrada.\")"
   ]
  },
  {
   "cell_type": "markdown",
   "id": "e32d4e00-70ef-4a3a-a648-cba1d36bb561",
   "metadata": {},
   "source": [
    "### 2.3 Tabla N°3: Información personal de los clientes"
   ]
  },
  {
   "cell_type": "markdown",
   "id": "6ac62ca2-19fe-4f8c-95cc-be6419b0bb0f",
   "metadata": {},
   "source": [
    "Contiene información personal de los clientes de las cuentas bancarias, contiene datos de tipo INT y NVARCHAR."
   ]
  },
  {
   "cell_type": "code",
   "execution_count": 43,
   "id": "086aa528-8128-4b60-a057-e07e8bf72e67",
   "metadata": {},
   "outputs": [
    {
     "name": "stdout",
     "output_type": "stream",
     "text": [
      "Conexión exitosa\n",
      "Tabla 3 creada correctamente y datos insertados.\n",
      "Conexión cerrada.\n"
     ]
    }
   ],
   "source": [
    "# Configuración de conexión\n",
    "server = r'EDUARDO_A\\SQLEXPRESS'\n",
    "bd = 'DB_Propia'\n",
    "\n",
    "try:                               \n",
    "    conexion = pyodbc.connect(driver='{SQL Server}', host=server, database=bd)\n",
    "    print('Conexión exitosa')\n",
    "\n",
    "    # Creamos un cursor para interactuar con la base de datos\n",
    "    cursor = conexion.cursor()\n",
    "\n",
    "    # Crear tabla 3 si no existe\n",
    "    cursor.execute(\"\"\"\n",
    "        IF NOT EXISTS (SELECT * FROM sys.tables WHERE name = 'Tabla_3')\n",
    "        BEGIN\n",
    "            CREATE TABLE Tabla_3 (\n",
    "                ID INT PRIMARY KEY,\n",
    "                Numero_cliente NVARCHAR(50),\n",
    "                Correo_cliente NVARCHAR(100),\n",
    "                Edad_cliente INT\n",
    "            )\n",
    "        END\n",
    "    \"\"\")\n",
    "\n",
    "    # Generar e insertar datos en Tabla_3\n",
    "    for i in range(1, 21):\n",
    "        numero_clientes = random.randint(900000000, 999999999)  # Número de cliente\n",
    "        correo_cliente = f\"cliente_{i}@banco.com\"  # Correo\n",
    "        edad_cliente = random.randint(18, 70)  # Edad aleatoria entre 18 y 70 años\n",
    "\n",
    "        # Inserción de datos\n",
    "        cursor.execute(\"\"\"\n",
    "            INSERT INTO Tabla_3 (ID, Numero_cliente, Correo_cliente, Edad_cliente)\n",
    "            VALUES (?, ?, ?, ?)\n",
    "        \"\"\", (i, numero_clientes, correo_cliente, edad_cliente))\n",
    "\n",
    "    # Confirmar la transacción\n",
    "    conexion.commit()\n",
    "    print(\"Tabla 3 creada correctamente y datos insertados.\")\n",
    "\n",
    "except pyodbc.Error as e: \n",
    "    print(\"Error de conexión o SQL:\", e)\n",
    "\n",
    "finally:\n",
    "    # Asegurarse de cerrar la conexión\n",
    "    if 'conexion' in locals() and conexion:\n",
    "        conexion.close()\n",
    "        print(\"Conexión cerrada.\")"
   ]
  },
  {
   "cell_type": "markdown",
   "id": "ea521c30-04b5-46b4-a34e-337e1da3865b",
   "metadata": {},
   "source": [
    "### 2.4 Visualizamos las tablas creadas"
   ]
  },
  {
   "cell_type": "code",
   "execution_count": 45,
   "id": "b9a5be69-c094-4556-b989-7718c30eb2e7",
   "metadata": {},
   "outputs": [
    {
     "name": "stdout",
     "output_type": "stream",
     "text": [
      "Conexión exitosa\n"
     ]
    },
    {
     "name": "stderr",
     "output_type": "stream",
     "text": [
      "C:\\Users\\alarc\\AppData\\Local\\Temp\\ipykernel_22060\\2576981772.py:19: UserWarning: pandas only supports SQLAlchemy connectable (engine/connection) or database string URI or sqlite3 DBAPI2 connection. Other DBAPI2 objects are not tested. Please consider using SQLAlchemy.\n",
      "  df_tabla1 = pd.read_sql(query1, conexion)\n",
      "C:\\Users\\alarc\\AppData\\Local\\Temp\\ipykernel_22060\\2576981772.py:20: UserWarning: pandas only supports SQLAlchemy connectable (engine/connection) or database string URI or sqlite3 DBAPI2 connection. Other DBAPI2 objects are not tested. Please consider using SQLAlchemy.\n",
      "  df_tabla2 = pd.read_sql(query2, conexion)\n",
      "C:\\Users\\alarc\\AppData\\Local\\Temp\\ipykernel_22060\\2576981772.py:21: UserWarning: pandas only supports SQLAlchemy connectable (engine/connection) or database string URI or sqlite3 DBAPI2 connection. Other DBAPI2 objects are not tested. Please consider using SQLAlchemy.\n",
      "  df_tabla3 = pd.read_sql(query3, conexion)\n"
     ]
    }
   ],
   "source": [
    "server = r'EDUARDO_A\\SQLEXPRESS'\n",
    "bd = 'DB_Propia'\n",
    "    \n",
    "try:                               \n",
    "    conexion = pyodbc.connect(driver='{SQL server}', host = server, database = bd)                              \n",
    "    print('Conexión exitosa')\n",
    "\n",
    "except: \n",
    "    print('La conexión no fué exitosa')\n",
    "    \n",
    "#Creamos un cursor para almacenar la información en memoria\n",
    "cursor = conexion.cursor()\n",
    "\n",
    "# Consultar las tablas y convertirlas en DataFrames\n",
    "query1 = \"SELECT * FROM Tabla_1\"\n",
    "query2 = \"SELECT * FROM Tabla_2\"\n",
    "query3 = \"SELECT * FROM Tabla_3\"\n",
    "\n",
    "df_tabla1 = pd.read_sql(query1, conexion)\n",
    "df_tabla2 = pd.read_sql(query2, conexion)\n",
    "df_tabla3 = pd.read_sql(query3, conexion)\n",
    "\n",
    "#Nos aseguramos de cerrar la conexió\n",
    "conexion.close()"
   ]
  },
  {
   "cell_type": "code",
   "execution_count": 47,
   "id": "0940a7a9-df9e-4648-8901-1140dc1f9057",
   "metadata": {},
   "outputs": [
    {
     "name": "stdout",
     "output_type": "stream",
     "text": [
      "Tabla 1:\n",
      "    ID    Nombre_cliente       Cuenta   Dinero\n",
      "0    1    Sofia Carrasco      Ahorros  9195.69\n",
      "1    2   Javier Baltazar      Ahorros   871.15\n",
      "2    3   Javier Baltazar       Sueldo  4049.12\n",
      "3    4     Lucia Paredes      Ahorros   609.86\n",
      "4    5        Ana García       Sueldo  5946.22\n",
      "5    6     Lucia Paredes   Plazo fijo  8651.64\n",
      "6    7     Lucia Paredes      Ahorros  5524.82\n",
      "7    8     Marta Alarcón      Ahorros  7011.21\n",
      "8    9     Lucia Paredes  Fondo mutuo  2436.05\n",
      "9   10     Pedro Heredia       Sueldo  8903.00\n",
      "10  11     Carmen Torres  Mancomunada  3186.62\n",
      "11  12     Marta Alarcón       Sueldo  3983.89\n",
      "12  13   Javier Baltazar  Mancomunada  1669.75\n",
      "13  14  Carlos Gutierrez          CTS  2321.59\n",
      "14  15   Javier Baltazar  Mancomunada  8394.51\n",
      "15  16        Luis Pinto      Ahorros  2870.03\n",
      "16  17     Pedro Heredia          CTS  5354.63\n",
      "17  18     Carmen Torres          CTS  6892.60\n",
      "18  19     Juan Mendieta          CTS  7307.05\n",
      "19  20     Pedro Heredia   Plazo fijo  5568.19\n",
      "\n",
      "Tabla 2:\n",
      "    ID Fecha_apertura  Monto_previo Fecha_ultimo_movimiento Tipo_movimiento  \\\n",
      "0    1     2022-05-05       1571.80              2024-03-26        Depósito   \n",
      "1    2     2002-02-15        184.86              2007-09-28          Retiro   \n",
      "2    3     2002-05-17       1674.47              2022-12-06        Depósito   \n",
      "3    4     2020-12-10       3970.26              2021-09-14        Depósito   \n",
      "4    5     2024-11-10       4485.18              2024-11-17   Transferencia   \n",
      "5    6     2009-05-15        330.45              2011-11-22        Depósito   \n",
      "6    7     2010-09-01        946.42              2017-03-25   Transferencia   \n",
      "7    8     2013-03-13       2247.89              2021-08-25          Retiro   \n",
      "8    9     2015-02-14       2662.67              2020-07-29        Depósito   \n",
      "9   10     2017-02-26       3548.98              2018-08-22          Retiro   \n",
      "10  11     2023-06-23       2695.68              2024-04-21        Depósito   \n",
      "11  12     2011-07-12       3993.93              2018-08-02   Transferencia   \n",
      "12  13     2018-03-29       3574.18              2018-09-03        Depósito   \n",
      "13  14     2019-02-14       1536.11              2020-09-11   Transferencia   \n",
      "14  15     2015-06-01        932.34              2016-09-04        Depósito   \n",
      "15  16     2023-04-30       2716.79              2023-05-04        Depósito   \n",
      "16  17     2008-10-02       4290.32              2021-03-23        Depósito   \n",
      "17  18     2001-03-26       1581.85              2021-12-23        Depósito   \n",
      "18  19     2010-09-14       1083.73              2018-11-23        Depósito   \n",
      "19  20     2018-11-06       3232.90              2022-05-15          Retiro   \n",
      "\n",
      "    Cantidad_movimiento  \n",
      "0                612.12  \n",
      "1                782.74  \n",
      "2                949.24  \n",
      "3                606.55  \n",
      "4                934.17  \n",
      "5                953.14  \n",
      "6                130.46  \n",
      "7                217.03  \n",
      "8                282.81  \n",
      "9                740.39  \n",
      "10               854.67  \n",
      "11               669.30  \n",
      "12               777.67  \n",
      "13               854.81  \n",
      "14               198.58  \n",
      "15               689.07  \n",
      "16               171.41  \n",
      "17               631.16  \n",
      "18               918.48  \n",
      "19               476.09  \n",
      "\n",
      "Tabla 3:\n",
      "    ID Numero_cliente        Correo_cliente  Edad_cliente\n",
      "0    1      961927108   cliente_1@banco.com            53\n",
      "1    2      995505651   cliente_2@banco.com            39\n",
      "2    3      919781465   cliente_3@banco.com            60\n",
      "3    4      973307181   cliente_4@banco.com            45\n",
      "4    5      940951058   cliente_5@banco.com            36\n",
      "5    6      915623202   cliente_6@banco.com            19\n",
      "6    7      977852534   cliente_7@banco.com            41\n",
      "7    8      980213299   cliente_8@banco.com            41\n",
      "8    9      998430111   cliente_9@banco.com            65\n",
      "9   10      901894743  cliente_10@banco.com            42\n",
      "10  11      932655925  cliente_11@banco.com            35\n",
      "11  12      965986705  cliente_12@banco.com            25\n",
      "12  13      919058916  cliente_13@banco.com            28\n",
      "13  14      922425250  cliente_14@banco.com            50\n",
      "14  15      911873507  cliente_15@banco.com            67\n",
      "15  16      965982103  cliente_16@banco.com            67\n",
      "16  17      932568124  cliente_17@banco.com            43\n",
      "17  18      901447512  cliente_18@banco.com            59\n",
      "18  19      964045205  cliente_19@banco.com            57\n",
      "19  20      964108800  cliente_20@banco.com            48\n"
     ]
    }
   ],
   "source": [
    "# Mostrar los DataFrames\n",
    "print(\"Tabla 1:\")\n",
    "print(df_tabla1.head(20))  # Muestra las primeras 20 filas\n",
    "print(\"\\nTabla 2:\")\n",
    "print(df_tabla2.head(20))\n",
    "print(\"\\nTabla 3:\")\n",
    "print(df_tabla3.head(20))"
   ]
  },
  {
   "cell_type": "markdown",
   "id": "d3fcb266-cbaa-4412-90af-53a95ee0e17c",
   "metadata": {},
   "source": [
    "## 3. Crear un histograma y un gráfico de barras con los datos de Maratón NY previamente importados a una BD"
   ]
  },
  {
   "cell_type": "markdown",
   "id": "6b6706d3-d007-420a-94f8-604bf14446fe",
   "metadata": {},
   "source": [
    "### 3.1 Importamos la información como un DF"
   ]
  },
  {
   "cell_type": "code",
   "execution_count": 49,
   "id": "e9508285-47eb-4cb0-8f9c-94dffce30e92",
   "metadata": {},
   "outputs": [
    {
     "name": "stdout",
     "output_type": "stream",
     "text": [
      "Conexión exitosa\n"
     ]
    },
    {
     "name": "stderr",
     "output_type": "stream",
     "text": [
      "C:\\Users\\alarc\\AppData\\Local\\Temp\\ipykernel_22060\\948802698.py:19: UserWarning: pandas only supports SQLAlchemy connectable (engine/connection) or database string URI or sqlite3 DBAPI2 connection. Other DBAPI2 objects are not tested. Please consider using SQLAlchemy.\n",
      "  df_maraton = pd.read_sql(query, conexion)\n"
     ]
    }
   ],
   "source": [
    "server = r'EDUARDO_A\\SQLEXPRESS'\n",
    "bd = 'DB_Python'\n",
    "usuario = 'sa'\n",
    "contrasena= 'eduardo1811A'\n",
    "    \n",
    "try:                               \n",
    "    conexion = pyodbc.connect(driver='{SQL server}', host = server, database = bd, UID = usuario, PWD = contrasena)                              \n",
    "    print('Conexión exitosa')\n",
    "\n",
    "except: \n",
    "    print('La conexión no fué exitosa')\n",
    "    \n",
    "#Creamos un cursor para almacenar la información en memoria\n",
    "cursor = conexion.cursor()\n",
    "    \n",
    "# Consultar las tablas y convertirlas en DataFrames\n",
    "query = \"SELECT * FROM [Maraton NY]\"\n",
    "\n",
    "df_maraton = pd.read_sql(query, conexion)\n",
    "\n",
    "#Nos aseguramos de cerrar la conexión\n",
    "conexion.close()"
   ]
  },
  {
   "cell_type": "markdown",
   "id": "5cb3d38f-4a79-450e-8e88-8fb5f5d8cc19",
   "metadata": {},
   "source": [
    "Vemos los datos del DF importado"
   ]
  },
  {
   "cell_type": "code",
   "execution_count": 51,
   "id": "05749734-f552-4a32-a0dd-ed1520b374ad",
   "metadata": {},
   "outputs": [
    {
     "data": {
      "text/html": [
       "<div>\n",
       "<style scoped>\n",
       "    .dataframe tbody tr th:only-of-type {\n",
       "        vertical-align: middle;\n",
       "    }\n",
       "\n",
       "    .dataframe tbody tr th {\n",
       "        vertical-align: top;\n",
       "    }\n",
       "\n",
       "    .dataframe thead th {\n",
       "        text-align: right;\n",
       "    }\n",
       "</style>\n",
       "<table border=\"1\" class=\"dataframe\">\n",
       "  <thead>\n",
       "    <tr style=\"text-align: right;\">\n",
       "      <th></th>\n",
       "      <th>Corredor</th>\n",
       "      <th>place</th>\n",
       "      <th>gender</th>\n",
       "      <th>age</th>\n",
       "      <th>home</th>\n",
       "      <th>time</th>\n",
       "    </tr>\n",
       "  </thead>\n",
       "  <tbody>\n",
       "    <tr>\n",
       "      <th>0</th>\n",
       "      <td>3475</td>\n",
       "      <td>3592</td>\n",
       "      <td>Male</td>\n",
       "      <td>52</td>\n",
       "      <td>GBR</td>\n",
       "      <td>217.483337</td>\n",
       "    </tr>\n",
       "    <tr>\n",
       "      <th>1</th>\n",
       "      <td>13594</td>\n",
       "      <td>13853</td>\n",
       "      <td>Female</td>\n",
       "      <td>40</td>\n",
       "      <td>NY</td>\n",
       "      <td>272.549988</td>\n",
       "    </tr>\n",
       "    <tr>\n",
       "      <th>2</th>\n",
       "      <td>12012</td>\n",
       "      <td>12256</td>\n",
       "      <td>Male</td>\n",
       "      <td>31</td>\n",
       "      <td>FRA</td>\n",
       "      <td>265.283325</td>\n",
       "    </tr>\n",
       "    <tr>\n",
       "      <th>3</th>\n",
       "      <td>10236</td>\n",
       "      <td>10457</td>\n",
       "      <td>Female</td>\n",
       "      <td>33</td>\n",
       "      <td>MI</td>\n",
       "      <td>256.149994</td>\n",
       "    </tr>\n",
       "    <tr>\n",
       "      <th>4</th>\n",
       "      <td>9476</td>\n",
       "      <td>9686</td>\n",
       "      <td>Male</td>\n",
       "      <td>33</td>\n",
       "      <td>NY</td>\n",
       "      <td>252.250000</td>\n",
       "    </tr>\n",
       "    <tr>\n",
       "      <th>5</th>\n",
       "      <td>1720</td>\n",
       "      <td>1784</td>\n",
       "      <td>Male</td>\n",
       "      <td>40</td>\n",
       "      <td>NJ</td>\n",
       "      <td>201.966660</td>\n",
       "    </tr>\n",
       "    <tr>\n",
       "      <th>6</th>\n",
       "      <td>15736</td>\n",
       "      <td>16020</td>\n",
       "      <td>Female</td>\n",
       "      <td>30</td>\n",
       "      <td>CA</td>\n",
       "      <td>283.566681</td>\n",
       "    </tr>\n",
       "    <tr>\n",
       "      <th>7</th>\n",
       "      <td>10580</td>\n",
       "      <td>10805</td>\n",
       "      <td>Male</td>\n",
       "      <td>27</td>\n",
       "      <td>GBR</td>\n",
       "      <td>255.883331</td>\n",
       "    </tr>\n",
       "    <tr>\n",
       "      <th>8</th>\n",
       "      <td>11957</td>\n",
       "      <td>12201</td>\n",
       "      <td>Male</td>\n",
       "      <td>42</td>\n",
       "      <td>NED</td>\n",
       "      <td>264.250000</td>\n",
       "    </tr>\n",
       "    <tr>\n",
       "      <th>9</th>\n",
       "      <td>18933</td>\n",
       "      <td>19266</td>\n",
       "      <td>Male</td>\n",
       "      <td>48</td>\n",
       "      <td>B.C</td>\n",
       "      <td>306.683319</td>\n",
       "    </tr>\n",
       "  </tbody>\n",
       "</table>\n",
       "</div>"
      ],
      "text/plain": [
       "   Corredor  place  gender  age home        time\n",
       "0      3475   3592    Male   52  GBR  217.483337\n",
       "1     13594  13853  Female   40   NY  272.549988\n",
       "2     12012  12256    Male   31  FRA  265.283325\n",
       "3     10236  10457  Female   33   MI  256.149994\n",
       "4      9476   9686    Male   33   NY  252.250000\n",
       "5      1720   1784    Male   40   NJ  201.966660\n",
       "6     15736  16020  Female   30   CA  283.566681\n",
       "7     10580  10805    Male   27  GBR  255.883331\n",
       "8     11957  12201    Male   42  NED  264.250000\n",
       "9     18933  19266    Male   48  B.C  306.683319"
      ]
     },
     "execution_count": 51,
     "metadata": {},
     "output_type": "execute_result"
    }
   ],
   "source": [
    "df_maraton.head(10)"
   ]
  },
  {
   "cell_type": "markdown",
   "id": "d2d2dcc7-7670-494e-95c8-13e947007615",
   "metadata": {},
   "source": [
    "### 3.2 Histograma"
   ]
  },
  {
   "cell_type": "markdown",
   "id": "14527ae8-774d-4534-9a6d-f0f6d51dca4c",
   "metadata": {},
   "source": [
    "Creamos un histograma para ver la distribución de edades de participantes"
   ]
  },
  {
   "cell_type": "code",
   "execution_count": 53,
   "id": "a5c5cbca-4658-42f3-ab41-f2893804c90e",
   "metadata": {},
   "outputs": [
    {
     "data": {
      "image/png": "[encoded data removed]",
      "text/plain": [
       "<Figure size 1000x600 with 1 Axes>"
      ]
     },
     "metadata": {},
     "output_type": "display_data"
    }
   ],
   "source": [
    "plt.figure(figsize=(10, 6))\n",
    "plt.hist(df_maraton['age'], bins=10, edgecolor='black', alpha=0.7)\n",
    "plt.title('Distribución de edades de los corredores en la maratón de NY')\n",
    "plt.xlabel('Edad (años)')\n",
    "plt.ylabel('Frecuencia')\n",
    "plt.grid(axis='y', alpha=0.75)\n",
    "plt.show()"
   ]
  },
  {
   "cell_type": "markdown",
   "id": "7a524530-5442-4beb-a7f6-ce813ddaa201",
   "metadata": {},
   "source": [
    "### 3.3 Gráfico de barras"
   ]
  },
  {
   "cell_type": "markdown",
   "id": "c3c8284a-9861-4f3f-999d-ef9a7ca35aee",
   "metadata": {},
   "source": [
    "Creamos un gráfico de barras para ver la procedencia de los participantes en la maratón"
   ]
  },
  {
   "cell_type": "code",
   "execution_count": 55,
   "id": "ed4083e7-4206-41c1-bb54-e0c3960ae4be",
   "metadata": {},
   "outputs": [
    {
     "data": {
      "image/png": "[encoded data removed]",
      "text/plain": [
       "<Figure size 1200x600 with 1 Axes>"
      ]
     },
     "metadata": {},
     "output_type": "display_data"
    }
   ],
   "source": [
    "# Crear un gráfico de barras usando la columna 'home' como ejemplo\n",
    "plt.figure(figsize=(12, 6))\n",
    "df_maraton['home'].value_counts().plot(kind='bar', color='skyblue', edgecolor='black')\n",
    "plt.title('Cantidad de corredores por lugar de origen')\n",
    "plt.xlabel('Lugar de origen')\n",
    "plt.ylabel('Cantidad de corredores')\n",
    "plt.xticks(rotation=90)  # Rotar las etiquetas del eje x para mejor legibilidad\n",
    "plt.grid(axis='y', alpha=0.75)\n",
    "plt.show()"
   ]
  },
  {
   "cell_type": "markdown",
   "id": "9898d65c-42d9-43e9-8aa7-8bbda0972880",
   "metadata": {},
   "source": [
    "## 4. Agregamos código para unir base de datos"
   ]
  },
  {
   "cell_type": "markdown",
   "id": "84090c46-130f-4d2d-8e4a-3b07fc68ce1b",
   "metadata": {},
   "source": [
    "### 4.1 Modificamos nombre de las columnas de identificación"
   ]
  },
  {
   "cell_type": "code",
   "execution_count": 61,
   "id": "36a14461-178b-4350-a6b0-cd542eac83e4",
   "metadata": {},
   "outputs": [
    {
     "name": "stdout",
     "output_type": "stream",
     "text": [
      "Conexión exitosa\n",
      "Columna renombrada con éxtio\n"
     ]
    }
   ],
   "source": [
    "server = r'EDUARDO_A\\SQLEXPRESS'\n",
    "bd = 'DB_Propia'\n",
    "try:                               \n",
    "    conexion = pyodbc.connect(driver='{SQL server}', host = server, database = bd, autocommit=True) \n",
    "    print('Conexión exitosa')\n",
    "\n",
    "except: \n",
    "    print('La conexión no fué exitosa')\n",
    "    \n",
    "#Creamos un cursor para almacenar la información en memoria\n",
    "cursor = conexion.cursor()\n",
    "\n",
    "#Indicamos lo que queremos que se lleve a cabo en código de SQL\n",
    "cursor.execute(\"\"\"\n",
    "    EXEC sp_rename 'Tabla_2.ID', 'IDEN', 'COLUMN';\n",
    "    \"\"\") \n",
    "\n",
    "print('Columna renombrada con éxtio')\n",
    "#Nos aseguramos de cerrar la conexión\n",
    "conexion.close()"
   ]
  },
  {
   "cell_type": "code",
   "execution_count": 63,
   "id": "647a1a65-ef75-4391-b774-42f6abf6e409",
   "metadata": {},
   "outputs": [
    {
     "name": "stdout",
     "output_type": "stream",
     "text": [
      "Conexión exitosa\n",
      "Columna renombrada con éxtio\n"
     ]
    }
   ],
   "source": [
    "server = r'EDUARDO_A\\SQLEXPRESS'\n",
    "bd = 'DB_Propia'\n",
    "try:                               \n",
    "    conexion = pyodbc.connect(driver='{SQL server}', host = server, database = bd, autocommit=True) \n",
    "    print('Conexión exitosa')\n",
    "\n",
    "except: \n",
    "    print('La conexión no fué exitosa')\n",
    "    \n",
    "#Creamos un cursor para almacenar la información en memoria\n",
    "cursor = conexion.cursor()\n",
    "\n",
    "#Indicamos lo que queremos que se lleve a cabo en código de SQL\n",
    "cursor.execute(\"\"\"\n",
    "    EXEC sp_rename 'Tabla_3.ID', 'IDE', 'COLUMN';\n",
    "    \"\"\") \n",
    "\n",
    "print('Columna renombrada con éxtio')\n",
    "#Nos aseguramos de cerrar la conexión\n",
    "conexion.close()"
   ]
  },
  {
   "cell_type": "markdown",
   "id": "710afc9d-5c6c-4bb5-b134-09c5737bee09",
   "metadata": {},
   "source": [
    "### 4.2 Unimos las bases de datos"
   ]
  },
  {
   "cell_type": "code",
   "execution_count": 66,
   "id": "c623ee36-3e9a-44ee-b806-bb88301a9482",
   "metadata": {},
   "outputs": [
    {
     "name": "stdout",
     "output_type": "stream",
     "text": [
      "Conexión exitosa\n",
      "Base de datos borrada con éxito\n"
     ]
    }
   ],
   "source": [
    "server = r'EDUARDO_A\\SQLEXPRESS'\n",
    "bd = 'DB_Propia'\n",
    "try:                               \n",
    "    conexion = pyodbc.connect(driver='{SQL server}', host = server, database = bd, autocommit=True) \n",
    "    print('Conexión exitosa')\n",
    "\n",
    "except: \n",
    "    print('La conexión no fué exitosa')\n",
    "    \n",
    "#Creamos un cursor para almacenar la información en memoria\n",
    "cursor = conexion.cursor()\n",
    "\n",
    "#Indicamos lo que queremos que se lleve a cabo en código de SQL\n",
    "cursor.execute(\"DROP TABLE IF EXISTS Tabla_unida\") \n",
    "\n",
    "print('Base de datos borrada con éxito')\n",
    "#Nos aseguramos de cerrar la conexión\n",
    "conexion.close()"
   ]
  },
  {
   "cell_type": "code",
   "execution_count": 68,
   "id": "347b7245-c9dd-4787-99e6-6fff79902e76",
   "metadata": {},
   "outputs": [
    {
     "name": "stdout",
     "output_type": "stream",
     "text": [
      "Conexión exitosa\n",
      "Base de datos unida con éxito\n"
     ]
    }
   ],
   "source": [
    "server = r'EDUARDO_A\\SQLEXPRESS'\n",
    "bd = 'DB_Propia'\n",
    "try:                               \n",
    "    conexion = pyodbc.connect(driver='{SQL server}', host = server, database = bd, autocommit=True) \n",
    "    print('Conexión exitosa')\n",
    "\n",
    "except: \n",
    "    print('La conexión no fué exitosa')\n",
    "    \n",
    "#Creamos un cursor para almacenar la información en memoria\n",
    "cursor = conexion.cursor()\n",
    "\n",
    "#Indicamos lo que queremos que se lleve a cabo en código de SQL\n",
    "cursor.execute(\"\"\"\n",
    "    SELECT t1.*, t2.*, t3.*\n",
    "    INTO Tabla_unida\n",
    "    FROM Tabla_1 t1\n",
    "    INNER JOIN Tabla_2 t2 ON t1.ID = t2.IDEN\n",
    "    INNER JOIN Tabla_3 t3 ON t1.ID = t3.IDE;\n",
    "    \"\"\") \n",
    "\n",
    "print('Base de datos unida con éxito')\n",
    "#Nos aseguramos de cerrar la conexión\n",
    "conexion.close()"
   ]
  },
  {
   "cell_type": "markdown",
   "id": "3cc7e552-9990-4705-8603-4b590f2ba425",
   "metadata": {},
   "source": [
    "### 4.3 Creamos DF a partir de las tablas de SQL"
   ]
  },
  {
   "cell_type": "code",
   "execution_count": 71,
   "id": "d6eb06ab-23c0-41ac-aaeb-fd52720ee51a",
   "metadata": {},
   "outputs": [
    {
     "name": "stdout",
     "output_type": "stream",
     "text": [
      "Conexión exitosa\n"
     ]
    },
    {
     "name": "stderr",
     "output_type": "stream",
     "text": [
      "C:\\Users\\alarc\\AppData\\Local\\Temp\\ipykernel_22060\\49756177.py:12: UserWarning: pandas only supports SQLAlchemy connectable (engine/connection) or database string URI or sqlite3 DBAPI2 connection. Other DBAPI2 objects are not tested. Please consider using SQLAlchemy.\n",
      "  clientes_edad = pd.read_sql(\"SELECT Nombre_cliente, Edad_cliente FROM Tabla_unida\", conexion)\n",
      "C:\\Users\\alarc\\AppData\\Local\\Temp\\ipykernel_22060\\49756177.py:13: UserWarning: pandas only supports SQLAlchemy connectable (engine/connection) or database string URI or sqlite3 DBAPI2 connection. Other DBAPI2 objects are not tested. Please consider using SQLAlchemy.\n",
      "  clientes_dinero = pd.read_sql(\"SELECT Nombre_cliente, Dinero FROM Tabla_unida\", conexion)\n",
      "C:\\Users\\alarc\\AppData\\Local\\Temp\\ipykernel_22060\\49756177.py:14: UserWarning: pandas only supports SQLAlchemy connectable (engine/connection) or database string URI or sqlite3 DBAPI2 connection. Other DBAPI2 objects are not tested. Please consider using SQLAlchemy.\n",
      "  clientes_tipo_cuenta = pd.read_sql(\"SELECT Nombre_cliente, Cuenta FROM Tabla_unida\", conexion)\n"
     ]
    }
   ],
   "source": [
    "server = r'EDUARDO_A\\SQLEXPRESS'\n",
    "bd = 'DB_Propia'\n",
    "    \n",
    "try:                               \n",
    "    conexion = pyodbc.connect(driver='{SQL server}', host = server, database = bd)                              \n",
    "    print('Conexión exitosa')\n",
    "\n",
    "except: \n",
    "    print('La conexión no fué exitosa')\n",
    "    \n",
    "\n",
    "clientes_edad = pd.read_sql(\"SELECT Nombre_cliente, Edad_cliente FROM Tabla_unida\", conexion)\n",
    "clientes_dinero = pd.read_sql(\"SELECT Nombre_cliente, Dinero FROM Tabla_unida\", conexion)\n",
    "clientes_tipo_cuenta = pd.read_sql(\"SELECT Nombre_cliente, Cuenta FROM Tabla_unida\", conexion)\n",
    "\n",
    "#Nos aseguramos de cerrar la conexión\n",
    "conexion.close()"
   ]
  }
 ],
 "metadata": {
  "kernelspec": {
   "display_name": "Python 3 (ipykernel)",
   "language": "python",
   "name": "python3"
  },
  "language_info": {
   "codemirror_mode": {
    "name": "ipython",
    "version": 3
   },
   "file_extension": ".py",
   "mimetype": "text/x-python",
   "name": "python",
   "nbconvert_exporter": "python",
   "pygments_lexer": "ipython3",
   "version": "3.12.4"
  }
 },
 "nbformat": 4,
 "nbformat_minor": 5
}
